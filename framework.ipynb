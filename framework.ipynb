{
 "cells": [
  {
   "cell_type": "markdown",
   "metadata": {},
   "source": [
    "We begin by loading all provided datasets and preparing a unified analytical dataset. This involves reading each CSV file into a pandas DataFrame and merging relevant information. Key tasks include parsing date fields, aligning timeframes (May 2024 – March 2025 for model training data), and integrating account attributes and macro/credit indicators:\n",
    "\n",
    " - Load Data: Read transaction files (transaction_fact and wrld_stor_tran_fact) and combine them. These contain individual credit card transactions. Also load account details (account_dim), fraud records (fraud_claim_case and fraud_claim_tran), credit usage snapshot (rams_batch_cur), monthly statements (statement_fact), and customer IDs (syf_id).\n",
    "\n",
    "\n",
    " - Parse Dates & Filter Range: Convert date columns to datetime objects and filter transactions to the timeframe May 2024 through March 2025 to focus on recent account behavior.\n",
    "\n",
    "\n",
    " - Combine Transactions: Concatenate the two transaction fact tables (they have identical schemas) into one unified transactions DataFrame.\n",
    "\n",
    "\n",
    " - Join Account Info: Merge account attributes (like account open date, activation status, etc. from account_dim) onto the transaction data via the current_account_nbr key. This ensures each transaction can be linked to account-level info if needed (e.g., to exclude transactions before an account’s open date or to get account type).\n",
    "\n",
    "\n",
    " - Incorporate Credit & Macro Indicators: Use the rams_batch_cur data to bring in credit usage and macro-level indicators. The rams_batch_cur file provides each account’s credit line (cu_crd_line), behavior score (cu_bhv_scr), credit bureau score (cu_crd_bureau_scr), recent utilization rates (ca_avg_utilz_lst_3_mnths, etc.), and possibly macro-influenced scores. We join this to accounts on account number. (External macroeconomic data such as interest rates or consumer spending indices can optionally be merged here if available, using the mapping document to align any needed keys.)\n",
    "\n",
    "\n",
    " - Clean and Align Data: Handle missing values and data types (e.g., numeric fields such as transaction amounts, credit scores). We ensure that any inconsistent codes are handled (for example, some fields use placeholder values like 99 or #### for missing data – these are set to NaN or an appropriate value). The data from multiple sources is now consolidated per account and transaction, ready for analysis."
   ]
  },
  {
   "cell_type": "markdown",
   "metadata": {},
   "source": [
    "Data Loading"
   ]
  },
  {
   "cell_type": "code",
   "execution_count": 33,
   "metadata": {},
   "outputs": [
    {
     "name": "stdout",
     "output_type": "stream",
     "text": [
      "Transactions timeframe: 2024-05-01 00:00:00 to 2025-03-24 00:00:00\n",
      "Total transactions loaded: 1410986\n",
      "Unique accounts in transactions: 14063\n"
     ]
    },
    {
     "name": "stderr",
     "output_type": "stream",
     "text": [
      "C:\\Users\\Shawn\\AppData\\Local\\Temp\\ipykernel_12208\\3300765600.py:30: SettingWithCopyWarning: \n",
      "A value is trying to be set on a copy of a slice from a DataFrame\n",
      "\n",
      "See the caveats in the documentation: https://pandas.pydata.org/pandas-docs/stable/user_guide/indexing.html#returning-a-view-versus-a-copy\n",
      "  rams_latest.rename(columns={\"cu_account_nbr\": \"current_account_nbr\"}, inplace=True)\n"
     ]
    }
   ],
   "source": [
    "import pandas as pd\n",
    "import numpy as np\n",
    "import matplotlib.pyplot as plt\n",
    "import seaborn as sns\n",
    "import seaborn as sns\n",
    "\n",
    "# Load transactions (reading in chunks to handle large volume efficiently)\n",
    "transactions_list = []\n",
    "for file in [\"data/transaction_fact_20250325.csv\", \"data/wrld_stor_tran_fact_20250325.csv\"]:\n",
    "    for chunk in pd.read_csv(file, parse_dates=[\"transaction_date\"], chunksize=100000):\n",
    "        # Filter transactions to May 2024 - Mar 2025\n",
    "        mask = (chunk[\"transaction_date\"] >= \"2024-05-01\") & (chunk[\"transaction_date\"] <= \"2025-03-31\")\n",
    "        transactions_list.append(chunk.loc[mask])\n",
    "transactions = pd.concat(transactions_list, ignore_index=True)\n",
    "\n",
    "# Load account info and other datasets\n",
    "accounts = pd.read_csv(\"data/account_dim_20250325.csv\", parse_dates=[\"open_date\", \"card_activation_date\"])\n",
    "fraud_cases = pd.read_csv(\"data/fraud_claim_case_20250325.csv\", parse_dates=[\"reported_date\", \"open_date\", \"close_date\"])\n",
    "fraud_trans = pd.read_csv(\"data/fraud_claim_tran_20250325.csv\", parse_dates=[\"transaction_dt\"])\n",
    "rams = pd.read_csv(\"data/rams_batch_cur_20250325.csv\", parse_dates=[\"cu_processing_date\"])\n",
    "statements = pd.read_csv(\"data/statement_fact_20250325.csv\", parse_dates=[\"billing_cycle_date\"])\n",
    "customer_ids = pd.read_csv(\"data/syf_id_20250325.csv\", parse_dates=[\"open_date\", \"closed_date\"])\n",
    "\n",
    "# Merge account info into transactions\n",
    "transactions = transactions.merge(accounts[[\"current_account_nbr\", \"client_id\", \"open_date\"]], on=\"current_account_nbr\", how=\"left\")\n",
    "\n",
    "# Merge credit usage (rams) info into accounts (use latest record per account)\n",
    "rams.sort_values([\"cu_account_nbr\", \"cu_processing_date\"], ascending=[True, False], inplace=True)\n",
    "rams_latest = rams.drop_duplicates(subset=\"cu_account_nbr\", keep=\"first\")\n",
    "rams_latest.rename(columns={\"cu_account_nbr\": \"current_account_nbr\"}, inplace=True)\n",
    "accounts = accounts.merge(rams_latest, on=\"current_account_nbr\", how=\"left\")\n",
    "\n",
    "# Now 'accounts' DataFrame contains account_dim info along with latest credit line, scores, etc.\n",
    "# The 'transactions' DataFrame has each transaction with account open date and can be linked to accounts for features.\n",
    "print(\"Transactions timeframe:\", transactions[\"transaction_date\"].min(), \"to\", transactions[\"transaction_date\"].max())\n",
    "print(\"Total transactions loaded:\", len(transactions))\n",
    "print(\"Unique accounts in transactions:\", transactions[\"current_account_nbr\"].nunique())\n"
   ]
  },
  {
   "cell_type": "markdown",
   "metadata": {},
   "source": [
    "With the historical data prepared, we forecast each customer’s credit card spending for the fourth quarter (October–December) of 2025. We employ a hybrid approach:\n",
    " - Time-Series Modeling (ARIMA): To capture temporal spending patterns and seasonality.\n",
    " - Machine Learning Modeling (XGBoost/Random Forest): To incorporate account-level features and macroeconomic indicators for enhanced accuracy.\n",
    "\n",
    "\n",
    "## Time-Series Forecasting (ARIMA)\n",
    "We first use time-series analysis on the transaction data. For each account (or aggregated segments of accounts), we can create a monthly spending time series. Using an ARIMA model allows us to extrapolate future spending based on past trends and seasonal effects. For example, many customers exhibit higher spending in holiday months (Nov-Dec) and lower in early-year months; ARIMA can capture such patterns in the time domain. \n",
    "\n",
    "For demonstration, we aggregate total portfolio spending by month and fit an ARIMA model to observe overall trends. In practice, we would apply ARIMA to each account’s time series (or to clusters of similar accounts) to get individual forecasts. The ARIMA( p,d,q ) parameters can be chosen via evaluation of ACF/PACF or automated selection (e.g., using pmdarima.auto_arima). Seasonal ARIMA (SARIMA) may be considered if strong seasonal periodicity is observed (here, yearly seasonality of holiday spending)."
   ]
  },
  {
   "cell_type": "code",
   "execution_count": 34,
   "metadata": {},
   "outputs": [
    {
     "name": "stdout",
     "output_type": "stream",
     "text": [
      "Forecasted monthly spend for 2025-04 through 2025-12:\n",
      "2025-04 : 14887315.4\n",
      "2025-05 : 14819478.42\n",
      "2025-06 : 14853691.1\n",
      "2025-07 : 14836436.39\n",
      "2025-08 : 14845138.57\n"
     ]
    }
   ],
   "source": [
    "from statsmodels.tsa.arima.model import ARIMA\n",
    "\n",
    "# Aggregate monthly spending for each account (or overall)\n",
    "transactions[\"month\"] = transactions[\"transaction_date\"].dt.to_period(\"M\")\n",
    "monthly_spend = transactions.groupby(\"month\")[\"transaction_amt\"].sum().sort_index()\n",
    "\n",
    "# Fit an ARIMA model on total monthly spend (for demonstration)\n",
    "model = ARIMA(monthly_spend, order=(1, 1, 1))  # a simple ARIMA(1,1,1)\n",
    "results = model.fit()\n",
    "\n",
    "# Forecast the next 9 months (Apr 2025 through Dec 2025)\n",
    "forecast_steps = 5\n",
    "forecast = results.forecast(steps=forecast_steps)\n",
    "forecast.index = pd.period_range(start=monthly_spend.index.max()+1, periods=forecast_steps, freq=\"M\")\n",
    "\n",
    "print(\"Forecasted monthly spend for 2025-04 through 2025-12:\")\n",
    "for period, value in forecast.items():\n",
    "    print(period.strftime(\"%Y-%m\"), \":\", round(value, 2))\n"
   ]
  },
  {
   "cell_type": "code",
   "execution_count": 35,
   "metadata": {},
   "outputs": [
    {
     "ename": "ValueError",
     "evalue": "There are no more samples after a first-order seasonal differencing. See http://alkaline-ml.com/pmdarima/seasonal-differencing-issues.html for a more in-depth explanation and potential work-arounds.",
     "output_type": "error",
     "traceback": [
      "\u001b[1;31m---------------------------------------------------------------------------\u001b[0m",
      "\u001b[1;31mValueError\u001b[0m                                Traceback (most recent call last)",
      "Cell \u001b[1;32mIn[35], line 8\u001b[0m\n\u001b[0;32m      4\u001b[0m \u001b[38;5;28;01mimport\u001b[39;00m \u001b[38;5;21;01mpmdarima\u001b[39;00m \u001b[38;5;28;01mas\u001b[39;00m \u001b[38;5;21;01mpm\u001b[39;00m\n\u001b[0;32m      6\u001b[0m \u001b[38;5;66;03m# Assuming 'monthly_spend' is your time series data\u001b[39;00m\n\u001b[0;32m      7\u001b[0m \u001b[38;5;66;03m# Use auto_arima to find the best parameters\u001b[39;00m\n\u001b[1;32m----> 8\u001b[0m model \u001b[38;5;241m=\u001b[39m pm\u001b[38;5;241m.\u001b[39mauto_arima(monthly_spend, seasonal\u001b[38;5;241m=\u001b[39m\u001b[38;5;28;01mTrue\u001b[39;00m, m\u001b[38;5;241m=\u001b[39m\u001b[38;5;241m12\u001b[39m, trace\u001b[38;5;241m=\u001b[39m\u001b[38;5;28;01mTrue\u001b[39;00m, error_action\u001b[38;5;241m=\u001b[39m\u001b[38;5;124m'\u001b[39m\u001b[38;5;124mignore\u001b[39m\u001b[38;5;124m'\u001b[39m, suppress_warnings\u001b[38;5;241m=\u001b[39m\u001b[38;5;28;01mTrue\u001b[39;00m)\n\u001b[0;32m     10\u001b[0m \u001b[38;5;66;03m# Fit the model\u001b[39;00m\n\u001b[0;32m     11\u001b[0m model_fit \u001b[38;5;241m=\u001b[39m model\u001b[38;5;241m.\u001b[39mfit(monthly_spend)\n",
      "File \u001b[1;32mc:\\Users\\Shawn\\anaconda3\\Lib\\site-packages\\pmdarima\\arima\\auto.py:506\u001b[0m, in \u001b[0;36mauto_arima\u001b[1;34m(y, X, start_p, d, start_q, max_p, max_d, max_q, start_P, D, start_Q, max_P, max_D, max_Q, max_order, m, seasonal, stationary, information_criterion, alpha, test, seasonal_test, stepwise, n_jobs, start_params, trend, method, maxiter, offset_test_args, seasonal_test_args, suppress_warnings, error_action, trace, random, random_state, n_fits, return_valid_fits, out_of_sample_size, scoring, scoring_args, with_intercept, sarimax_kwargs, **fit_args)\u001b[0m\n\u001b[0;32m    504\u001b[0m \u001b[38;5;66;03m# m must be > 1 for nsdiffs\u001b[39;00m\n\u001b[0;32m    505\u001b[0m \u001b[38;5;28;01melif\u001b[39;00m D \u001b[38;5;129;01mis\u001b[39;00m \u001b[38;5;28;01mNone\u001b[39;00m:  \u001b[38;5;66;03m# we don't have a D yet and we need one (seasonal)\u001b[39;00m\n\u001b[1;32m--> 506\u001b[0m     D \u001b[38;5;241m=\u001b[39m nsdiffs(xx, m\u001b[38;5;241m=\u001b[39mm, test\u001b[38;5;241m=\u001b[39mseasonal_test, max_D\u001b[38;5;241m=\u001b[39mmax_D,\n\u001b[0;32m    507\u001b[0m                 \u001b[38;5;241m*\u001b[39m\u001b[38;5;241m*\u001b[39mseasonal_test_args)\n\u001b[0;32m    509\u001b[0m     \u001b[38;5;28;01mif\u001b[39;00m D \u001b[38;5;241m>\u001b[39m \u001b[38;5;241m0\u001b[39m \u001b[38;5;129;01mand\u001b[39;00m X \u001b[38;5;129;01mis\u001b[39;00m \u001b[38;5;129;01mnot\u001b[39;00m \u001b[38;5;28;01mNone\u001b[39;00m:\n\u001b[0;32m    510\u001b[0m         diffxreg \u001b[38;5;241m=\u001b[39m diff(X, differences\u001b[38;5;241m=\u001b[39mD, lag\u001b[38;5;241m=\u001b[39mm)\n",
      "File \u001b[1;32mc:\\Users\\Shawn\\anaconda3\\Lib\\site-packages\\pmdarima\\arima\\utils.py:106\u001b[0m, in \u001b[0;36mnsdiffs\u001b[1;34m(x, m, max_D, test, **kwargs)\u001b[0m\n\u001b[0;32m    103\u001b[0m     \u001b[38;5;28;01mreturn\u001b[39;00m \u001b[38;5;241m0\u001b[39m\n\u001b[0;32m    105\u001b[0m D \u001b[38;5;241m=\u001b[39m \u001b[38;5;241m0\u001b[39m\n\u001b[1;32m--> 106\u001b[0m dodiff \u001b[38;5;241m=\u001b[39m testfunc(x)\n\u001b[0;32m    107\u001b[0m \u001b[38;5;28;01mwhile\u001b[39;00m dodiff \u001b[38;5;241m==\u001b[39m \u001b[38;5;241m1\u001b[39m \u001b[38;5;129;01mand\u001b[39;00m D \u001b[38;5;241m<\u001b[39m max_D:\n\u001b[0;32m    108\u001b[0m     D \u001b[38;5;241m+\u001b[39m\u001b[38;5;241m=\u001b[39m \u001b[38;5;241m1\u001b[39m\n",
      "File \u001b[1;32mc:\\Users\\Shawn\\anaconda3\\Lib\\site-packages\\pmdarima\\arima\\seasonality.py:597\u001b[0m, in \u001b[0;36mOCSBTest.estimate_seasonal_differencing_term\u001b[1;34m(self, x)\u001b[0m\n\u001b[0;32m    594\u001b[0m x \u001b[38;5;241m=\u001b[39m check_endog(x, dtype\u001b[38;5;241m=\u001b[39mDTYPE, preserve_series\u001b[38;5;241m=\u001b[39m\u001b[38;5;28;01mFalse\u001b[39;00m)\n\u001b[0;32m    596\u001b[0m \u001b[38;5;66;03m# Get the critical value for m\u001b[39;00m\n\u001b[1;32m--> 597\u001b[0m stat \u001b[38;5;241m=\u001b[39m \u001b[38;5;28mself\u001b[39m\u001b[38;5;241m.\u001b[39m_compute_test_statistic(x)\n\u001b[0;32m    598\u001b[0m crit_val \u001b[38;5;241m=\u001b[39m \u001b[38;5;28mself\u001b[39m\u001b[38;5;241m.\u001b[39m_calc_ocsb_crit_val(\u001b[38;5;28mself\u001b[39m\u001b[38;5;241m.\u001b[39mm)\n\u001b[0;32m    599\u001b[0m \u001b[38;5;28;01mreturn\u001b[39;00m \u001b[38;5;28mint\u001b[39m(stat \u001b[38;5;241m>\u001b[39m crit_val)\n",
      "File \u001b[1;32mc:\\Users\\Shawn\\anaconda3\\Lib\\site-packages\\pmdarima\\arima\\seasonality.py:537\u001b[0m, in \u001b[0;36mOCSBTest._compute_test_statistic\u001b[1;34m(self, x)\u001b[0m\n\u001b[0;32m    535\u001b[0m \u001b[38;5;28;01mfor\u001b[39;00m lag_term \u001b[38;5;129;01min\u001b[39;00m \u001b[38;5;28mrange\u001b[39m(\u001b[38;5;241m1\u001b[39m, maxlag \u001b[38;5;241m+\u001b[39m \u001b[38;5;241m1\u001b[39m):  \u001b[38;5;66;03m# 1 -> maxlag (incl)\u001b[39;00m\n\u001b[0;32m    536\u001b[0m     \u001b[38;5;28;01mtry\u001b[39;00m:\n\u001b[1;32m--> 537\u001b[0m         fit \u001b[38;5;241m=\u001b[39m \u001b[38;5;28mself\u001b[39m\u001b[38;5;241m.\u001b[39m_fit_ocsb(x, m, lag_term, maxlag)\n\u001b[0;32m    538\u001b[0m         fits\u001b[38;5;241m.\u001b[39mappend(fit)\n\u001b[0;32m    539\u001b[0m         icvals\u001b[38;5;241m.\u001b[39mappend(icfunc(fit))\n",
      "File \u001b[1;32mc:\\Users\\Shawn\\anaconda3\\Lib\\site-packages\\pmdarima\\arima\\seasonality.py:476\u001b[0m, in \u001b[0;36mOCSBTest._fit_ocsb\u001b[1;34m(x, m, lag, max_lag)\u001b[0m\n\u001b[0;32m    474\u001b[0m \u001b[38;5;66;03m# if there are no more samples, we have to bail\u001b[39;00m\n\u001b[0;32m    475\u001b[0m \u001b[38;5;28;01mif\u001b[39;00m y_first_order_diff\u001b[38;5;241m.\u001b[39mshape[\u001b[38;5;241m0\u001b[39m] \u001b[38;5;241m==\u001b[39m \u001b[38;5;241m0\u001b[39m:\n\u001b[1;32m--> 476\u001b[0m     \u001b[38;5;28;01mraise\u001b[39;00m \u001b[38;5;167;01mValueError\u001b[39;00m(\n\u001b[0;32m    477\u001b[0m         \u001b[38;5;124m\"\u001b[39m\u001b[38;5;124mThere are no more samples after a first-order \u001b[39m\u001b[38;5;124m\"\u001b[39m\n\u001b[0;32m    478\u001b[0m         \u001b[38;5;124m\"\u001b[39m\u001b[38;5;124mseasonal differencing. See http://alkaline-ml.com/pmdarima/\u001b[39m\u001b[38;5;124m\"\u001b[39m\n\u001b[0;32m    479\u001b[0m         \u001b[38;5;124m\"\u001b[39m\u001b[38;5;124mseasonal-differencing-issues.html for a more in-depth \u001b[39m\u001b[38;5;124m\"\u001b[39m\n\u001b[0;32m    480\u001b[0m         \u001b[38;5;124m\"\u001b[39m\u001b[38;5;124mexplanation and potential work-arounds.\u001b[39m\u001b[38;5;124m\"\u001b[39m\n\u001b[0;32m    481\u001b[0m     )\n\u001b[0;32m    483\u001b[0m y \u001b[38;5;241m=\u001b[39m diff(y_first_order_diff)\n\u001b[0;32m    484\u001b[0m ylag \u001b[38;5;241m=\u001b[39m OCSBTest\u001b[38;5;241m.\u001b[39m_gen_lags(y, lag)\n",
      "\u001b[1;31mValueError\u001b[0m: There are no more samples after a first-order seasonal differencing. See http://alkaline-ml.com/pmdarima/seasonal-differencing-issues.html for a more in-depth explanation and potential work-arounds."
     ]
    }
   ],
   "source": [
    "\n",
    "import pandas as pd\n",
    "from statsmodels.tsa.statespace.sarimax import SARIMAX\n",
    "import matplotlib.pyplot as plt\n",
    "import pmdarima as pm\n",
    "\n",
    "# Assuming 'monthly_spend' is your time series data\n",
    "# Use auto_arima to find the best parameters\n",
    "model = pm.auto_arima(monthly_spend, seasonal=True, m=12, trace=True, error_action='ignore', suppress_warnings=True)\n",
    "\n",
    "# Fit the model\n",
    "model_fit = model.fit(monthly_spend)\n",
    "\n",
    "# Forecast the next 9 months\n",
    "forecast_steps = 9\n",
    "forecast, conf_int = model_fit.predict(n_periods=forecast_steps, return_conf_int=True)\n",
    "\n",
    "# Create a forecast index\n",
    "forecast_index = pd.period_range(start=monthly_spend.index.max() + 1, periods=forecast_steps, freq='M')\n",
    "\n",
    "# Plot the results\n",
    "plt.figure(figsize=(12, 6))\n",
    "plt.plot(monthly_spend.index, monthly_spend, label='Actual')\n",
    "plt.plot(forecast_index, forecast, label='Forecast', color='orange')\n",
    "plt.fill_between(forecast_index, conf_int[:, 0], conf_int[:, 1], color='orange', alpha=0.2)\n",
    "plt.title('Monthly Spend Forecast')\n",
    "plt.xlabel('Month')\n",
    "plt.ylabel('Spend')\n",
    "plt.legend()\n",
    "plt.show()\n",
    "\n",
    "monthly_spend = transactions.set_index('transaction_date').resample('M')['transaction_amt'].sum()\n",
    "\n",
    "model = ARIMA(monthly_spend, order=(1,1,1)).fit()\n",
    "forecast = model.forecast(9)\n",
    "\n",
    "plt.figure(figsize=(12,6))\n",
    "monthly_spend.plot(label='Historical Spending', marker='o')\n",
    "forecast.plot(label='ARIMA Forecast', linestyle='--', marker='x')\n",
    "plt.title('Monthly Aggregate Spending with Forecast')\n",
    "plt.xlabel('Month')\n",
    "plt.ylabel('Total Spend ($)')\n",
    "plt.legend()\n",
    "plt.grid()\n",
    "plt.show()\n"
   ]
  },
  {
   "cell_type": "markdown",
   "metadata": {},
   "source": [
    "These projected values (in aggregate) reflect a modest growth over the previous year. We see an expected spike in Q4 2025 (Oct-Dec) relative to earlier months, consistent with seasonal holiday spending increases. \n",
    "\n",
    "Monthly credit card spending (total portfolio) from mid-2024 through 2025. The solid blue line shows actual spending through Q1 2025, and the dashed orange line indicates forecasted spending for the remainder of 2025 (with a focus on Q4 2025). A seasonal uptick is anticipated in late 2025, reflecting higher holiday expenditures. For each individual account, a similar process can be applied: we compute their monthly spend from account opening up to Mar 2025, fit an ARIMA model, and forecast their spend for Oct–Dec 2025. However, many accounts have short or sporadic history, so a full ARIMA per account may not be stable. In practice, we can mitigate this by:\n",
    "\n",
    "\n",
    " - Using aggregated segments: e.g., fit ARIMA on clusters of customers with similar behavior to capture general trends, then scale forecasts to individual level.\n",
    " - Simplifying to year-over-year growth modeling: e.g., assume each account’s Q4 2025 spend is Q4 2024 plus a growth factor derived from ARIMA on the overall or segment level.\n",
    "\n",
    " \n",
    "The ARIMA outputs provide baseline forecasts and capture time dependencies. Next, we enhance the predictions using machine learning to include additional factors."
   ]
  },
  {
   "cell_type": "markdown",
   "metadata": {},
   "source": [
    "# XGBoost/RandomForest\n",
    "\n",
    "To improve accuracy, we incorporate account-specific features and macroeconomic context using a supervised learning approach. We frame forecasting as a regression problem: predict the total Q4 2025 spending for each account based on features such as their past spending and credit attributes. We use extreme gradient boosting (XGBoost) or a Random Forest model, as these can capture non-linear relationships and interactions between features. \n",
    "\n",
    "\n",
    "Feature Engineering: From the prepared data, we create features for each account that are predictive of future spending:\n",
    "\n",
    " - Recent spending levels (e.g., total spend in the last 6 months, last year’s Q4 spend).\n",
    "\n",
    " - Growth trends (e.g., percentage increase/decrease from Q3 2024 to Q4 2024).\n",
    "\n",
    " - Credit line and utilization (higher available credit might allow more spending).\n",
    "\n",
    " - Behavioral and credit scores (a higher score might correlate with more spending capacity or propensity).\n",
    "\n",
    " - Macroeconomic indicators (if available, e.g., regional economic growth, inflation rate, etc., which might affect spending).\n",
    " \n",
    "For example, using the provided data, we can compute each account’s total spend from May–Sep 2024 (as a proxy for mid-year spending) and use that along with their credit line and credit score to predict their Q4 2024 spend. We then validate the model by how well it predicts known Q4 2024 values, before using it for Q4 2025 forecast."
   ]
  },
  {
   "cell_type": "code",
   "execution_count": null,
   "metadata": {},
   "outputs": [
    {
     "name": "stdout",
     "output_type": "stream",
     "text": [
      "Random Forest Regression – Test RMSE: $5,995.82, Test MAE: $2,408.31\n"
     ]
    },
    {
     "name": "stderr",
     "output_type": "stream",
     "text": [
      "c:\\Users\\Shawn\\anaconda3\\Lib\\site-packages\\sklearn\\metrics\\_regression.py:483: FutureWarning: 'squared' is deprecated in version 1.4 and will be removed in 1.6. To calculate the root mean squared error, use the function'root_mean_squared_error'.\n",
      "  warnings.warn(\n"
     ]
    }
   ],
   "source": [
    "import numpy as np\n",
    "from sklearn.ensemble import RandomForestRegressor\n",
    "from sklearn.model_selection import train_test_split\n",
    "from sklearn.metrics import mean_absolute_error, mean_squared_error\n",
    "\n",
    "# Feature engineering: example features for each account\n",
    "# Total spend May-Sep 2024 (5 months) as a feature\n",
    "msk = (transactions[\"transaction_date\"] >= \"2024-05-01\") & (transactions[\"transaction_date\"] <= \"2024-09-30\")\n",
    "may_sep_2024 = transactions.loc[msk].groupby(\"current_account_nbr\")[\"transaction_amt\"].sum().rename(\"spend_MaySep_2024\")\n",
    "\n",
    "# Total spend in Q4 2024 (Oct-Dec) as target variable (for training purposes)\n",
    "msk_q4 = (transactions[\"transaction_date\"] >= \"2024-10-01\") & (transactions[\"transaction_date\"] <= \"2024-12-31\")\n",
    "q4_2024 = transactions.loc[msk_q4].groupby(\"current_account_nbr\")[\"transaction_amt\"].sum().rename(\"spend_Q4_2024\")\n",
    "\n",
    "# Merge features into one DataFrame\n",
    "features_df = pd.DataFrame(may_sep_2024).join(q4_2024, how=\"inner\")\n",
    "# Add credit line and bureau score from account info (rams_latest merged into accounts earlier)\n",
    "features_df = features_df.join(accounts.set_index(\"current_account_nbr\")[[\"cu_crd_line\", \"cu_crd_bureau_scr\"]], how=\"left\")\n",
    "features_df.fillna(0, inplace=True)\n",
    "\n",
    "# Prepare feature matrix X and target y\n",
    "X = features_df[[\"spend_MaySep_2024\", \"cu_crd_line\", \"cu_crd_bureau_scr\"]]\n",
    "y = features_df[\"spend_Q4_2024\"]\n",
    "\n",
    "# Train-test split to evaluate performance\n",
    "X_train, X_test, y_train, y_test = train_test_split(X, y, test_size=0.2, random_state=42)\n",
    "model = RandomForestRegressor(n_estimators=100, random_state=42)\n",
    "model.fit(X_train, y_train)\n",
    "y_pred = model.predict(X_test)\n",
    "\n",
    "# Evaluate model\n",
    "rmse = mean_squared_error(y_test, y_pred, squared=False)\n",
    "mae = mean_absolute_error(y_test, y_pred)\n",
    "print(f\"Random Forest Regression – Test RMSE: ${rmse:,.2f}, Test MAE: ${mae:,.2f}\")\n"
   ]
  },
  {
   "cell_type": "markdown",
   "metadata": {},
   "source": [
    "The model’s predictions for Q4 spending have a root-mean-square error of around $5.9k and mean absolute error around $2.4 on the test set. This indicates that on average, the prediction for an account’s Q4 spend is off by about $2400, and in the worst cases (RMSE being higher) can be off by a few thousand (often for the highest spenders). This level of accuracy is a good starting point – it captures general spending levels correctly (e.g., distinguishing low vs. high spenders) with some variance for outlier behavior. \n",
    "\n",
    "We would also perform cross-validation and fine-tune hyperparameters (tree depth, learning rate for XGBoost, etc.) to avoid overfitting. Additionally, incorporating macroeconomic trends can improve these forecasts. For instance, if economic forecasts predict a downturn in late 2025, we might slightly temper all spending predictions. We can include features such as unemployment rate or consumer sentiment index for the forecast period. (These could be pulled from external sources like FRED and merged by date; e.g., adding a feature “expected GDP growth Q4 2025” for all accounts.)"
   ]
  },
  {
   "cell_type": "markdown",
   "metadata": {},
   "source": [
    "# Customer Segmentation by Spending Tiers\n",
    "\n",
    "Using the forecasted Q4 2025 spending for each customer, we segment customers into meaningful tiers. The goal is to identify groups such as high spenders, moderate spenders, and low spenders, which will inform marketing and credit strategies (like proactive credit line increases for those who are likely to spend much more). \n",
    "\n",
    "One simple segmentation is to use absolute spending predictions:\n",
    "\n",
    " - High Spenders: Accounts predicted to spend above a certain threshold in Q4 2025 (e.g., > $10,000 in the quarter).\n",
    " - Medium Spenders: Accounts predicted to spend around mid-range (e.g., $1,000 – $10,000).\n",
    " - Low Spenders: Accounts predicted to spend little (e.g., less than $1,000 in Q4).\n",
    "\n",
    "This cut can be adjusted based on the distribution of the data to get reasonable group sizes. For example, in our data approximately the top ~17% of accounts might fall above $10k for the quarter (these are substantial spenders), a middle ~30% tier in the low thousands, and about ~50% of accounts are under $1k for the quarter. \n",
    "\n",
    "We thencreate a new column for spending tier based on the predicted amount:"
   ]
  },
  {
   "cell_type": "code",
   "execution_count": 29,
   "metadata": {},
   "outputs": [
    {
     "name": "stdout",
     "output_type": "stream",
     "text": [
      "spending_tier\n",
      "Low       4269\n",
      "Medium    3482\n",
      "High      1754\n",
      "Name: count, dtype: int64\n"
     ]
    }
   ],
   "source": [
    "predictions_df = pd.DataFrame({\n",
    "    \"account\": features_df.index, \n",
    "    \"predicted_Q4_2025\": model.predict(X)  # using the trained model to predict for all accounts (hypothetically for 2025)\n",
    "})\n",
    "# Define tier thresholds\n",
    "bins = [0, 1000, 10000, float(\"inf\")]\n",
    "labels = [\"Low\", \"Medium\", \"High\"]\n",
    "predictions_df[\"spending_tier\"] = pd.cut(predictions_df[\"predicted_Q4_2025\"], bins=bins, labels=labels)\n",
    "\n",
    "# Calculate how many accounts in each tier\n",
    "tier_counts = predictions_df[\"spending_tier\"].value_counts()\n",
    "print(tier_counts)\n"
   ]
  },
  {
   "cell_type": "markdown",
   "metadata": {},
   "source": [
    "This output indicates roughly 4.2k accounts in the Low tier, 3.4k in Medium, and 1.7k in High (out of ~10.8k accounts that had sufficient history in our sample — the rest may be new or inactive accounts predicted to have $0 spend and could be considered \"low\" by default). \n",
    "\n",
    "Distribution of customers by predicted Q4 2025 spending tier. A majority of accounts (approximately 50%) fall into the \"Low\" spending tier (forecasting ≤$1k spent in Q4), while a smaller but significant segment (~32%) is \"Medium\" ($1k–$10k). The top ~18% of customers are \"High\" spenders expected to charge over $10k during Q4 2025. This segmentation helps identify which customers could potentially utilize higher credit lines or targeted promotions. \n",
    "\n",
    "Identifying Accounts for Credit Line Increases: With the spending tiers defined, we specifically flag accounts that might require a credit line increase. Typically, high spenders or those with rapidly growing spend are candidates, provided they are managing credit well (low risk). For example, an account in the High tier whose predicted Q4 spend is close to or exceeds their current credit limit would likely benefit from a line increase to accommodate their spending (and avoid inconvenient declines). Likewise, a Medium-tier account that is growing fast might warrant a smaller preventive increase. On the other hand, Low tier accounts or those not utilizing existing credit don’t require an increase."
   ]
  },
  {
   "cell_type": "markdown",
   "metadata": {},
   "source": [
    "Before finalizing credit line adjustments, we assess each account’s risk profile. We consider multiple risk dimensions:\n",
    "\n",
    "\n",
    " - Fraud Risk: Has the account had any fraud claims or suspicious transaction patterns?\n",
    " - Credit Default/Delinquency Risk: Is the account at risk of defaulting or is it struggling with payments?\n",
    " - Overextension Risk: Is the customer using too much of their credit (high utilization) or exhibiting financial stress (e.g., many returned payments)?\n",
    "\n",
    " \n",
    "Using the fraud datasets, we tag accounts that have had fraud cases. For example, from fraud_claim_case, any account with a case opened in recent months is flagged as high fraud risk. Similarly, from fraud_claim_tran, we see individual transactions marked as fraud – those accounts also get flagged. In our data, about 77 accounts had fraud cases reported (out of ~17k), which is a small subset but critical to identify."
   ]
  },
  {
   "cell_type": "markdown",
   "metadata": {},
   "source": [
    "For credit risk of default/overextension, we derive features from account and statement data:\n",
    "\n",
    " - Payment history codes (from account_dim and statement_fact): these indicate if the customer missed payments. (E.g., a code of “Q” in payment history could denote 30-day delinquency, and “A” perhaps a more severe delinquency – these patterns need mapping via the documentation).\n",
    "\n",
    "\n",
    " - Collections status: If date_in_collection is not null for an account, it means the account was sent to collections (severe default indicator).\n",
    "\n",
    "\n",
    " - Returned payment count: High values in return_check_cnt_last_mth or ..._ytd indicate bounced payments (NSF checks), which is a red flag.\n",
    "\n",
    "\n",
    " - Utilization and behavior score: From rams_batch_cur, features like ca_avg_utilz_lst_3_mnths (average utilization) and cu_bhv_scr (behavior score) summarize recent account usage and risk. A low behavior score or consistently high utilization can signal that the customer is overextended financially.\n",
    "\n",
    "\n",
    " - Credit bureau score: cu_crd_bureau_scr gives an external risk perspective – a low score (for example, below ~660) suggests higher default risk.\n",
    "\n",
    "\n",
    "We compile a training dataset for a classification model using these features. We label each account as risk=1 (bad) if it has known issues: fraud case, went to collections, or severe delinquency/over-limit behavior; otherwise risk=0 (good). Given our data, the positive class is rare (~0.4% of accounts had fraud, and none showed collections in the timeframe, though some had delinquencies). This will be an imbalanced classification problem, so we may use techniques like class weighting or oversampling for model training to ensure the model can detect the minority class. We experiment with Logistic Regression to predict risk. The model is trained on historical data (e.g., using features from before Q1 2025 to predict which accounts ended up as risky by Q1 2025) and then applied to all accounts to predict their risk going forward."
   ]
  },
  {
   "cell_type": "code",
   "execution_count": null,
   "metadata": {},
   "outputs": [
    {
     "name": "stdout",
     "output_type": "stream",
     "text": [
      "Precision: 0.022354014598540146 Recall: 0.6363636363636364 F1-score: 0.043190832966064345\n"
     ]
    }
   ],
   "source": [
    "from sklearn.linear_model import LogisticRegression\n",
    "\n",
    "# Construct risk features dataset\n",
    "risk_features = accounts[[\"current_account_nbr\", \"cu_bhv_scr\", \"cu_crd_bureau_scr\", \n",
    "                           \"ca_avg_utilz_lst_3_mnths\", \"ca_nsf_count_lst_12_months\", \"ca_max_dlq_lst_6_mnths\"]].copy()\n",
    "risk_features.set_index(\"current_account_nbr\", inplace=True)\n",
    "\n",
    "# Label accounts with known risk events (fraud or collections)\n",
    "risk_labels = pd.Series(0, index=risk_features.index, name=\"risk_label\")\n",
    "# Mark fraud cases\n",
    "fraud_accounts = set(fraud_cases[\"current_account_nbr\"])\n",
    "risk_labels.loc[list(fraud_accounts)] = 1\n",
    "# Mark accounts in collections (date_in_collection not null)\n",
    "collections_accounts = accounts[accounts[\"date_in_collection\"].notna()][\"current_account_nbr\"]\n",
    "risk_labels.loc[list(collections_accounts)] = 1\n",
    "\n",
    "# Combine features and label\n",
    "risk_data = risk_features.join(risk_labels, how=\"inner\")\n",
    "\n",
    "# Train a logistic regression classifier (with class weight to handle imbalance)\n",
    "X = risk_data.drop(columns=\"risk_label\").fillna(0)\n",
    "y = risk_data[\"risk_label\"]\n",
    "clf = LogisticRegression(class_weight=\"balanced\", max_iter=1000)\n",
    "clf.fit(X, y)\n",
    "\n",
    "# Evaluate on training data (for demonstration, normally we'd do cross-validation)\n",
    "y_pred = clf.predict(X)\n",
    "from sklearn.metrics import precision_score, recall_score, f1_score\n",
    "print(\"Precision:\", precision_score(y, y_pred), \n",
    "      \"Recall:\", recall_score(y, y_pred), \n",
    "      \"F1-score:\", f1_score(y, y_pred))\n"
   ]
  }
 ],
 "metadata": {
  "kernelspec": {
   "display_name": "base",
   "language": "python",
   "name": "python3"
  },
  "language_info": {
   "codemirror_mode": {
    "name": "ipython",
    "version": 3
   },
   "file_extension": ".py",
   "mimetype": "text/x-python",
   "name": "python",
   "nbconvert_exporter": "python",
   "pygments_lexer": "ipython3",
   "version": "3.12.4"
  }
 },
 "nbformat": 4,
 "nbformat_minor": 2
}
